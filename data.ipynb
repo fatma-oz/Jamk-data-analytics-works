{
 "cells": [
  {
   "cell_type": "markdown",
   "metadata": {},
   "source": [
    "## 1  NumPy-taulukot - kappaleen lähtönopeus\n",
    "Kappaleen lähtönopeuden laskemiseksi on mitattu seuraava data:\n",
    "kulma = [10, 15, 20, 25, 30]\n",
    "kantama = [22.7, 21.9, 26.1, 28.8, 29.8],\n",
    "missä kulma on vaakatason ja kappaleen lähtönopeusvektorin välinen kulma asteina ja kantama on kappaleen lentomatka yksiköissä cm.\n",
    "\n",
    "Kappaleen lähtönopeus on silloin\n",
    "\n",
    "nopeus=kantama⋅9.82 m/s2sin(2⋅kulma)‾‾‾‾‾‾‾‾‾‾‾‾‾√.\n",
    "\n",
    "Kirjoita python funktio nopeus(kulma, kantama), joka otta argumenteikseen python listat (kulma ja kantama) ja tulostaa lopuksi yllä olevalla kaavalla lasketun parametrin nopeus.\n",
    "\n",
    "Käytä numpy taulukoiden funktioita ratkaisussasi. Anna vastauksesi yksiköissä m/s. Sinun tarvitsee ottaa käyttöön ainoastaan annettu kaava sekä tehdä tarvittavat yksikkömuunnokset.\n",
    "\n"
   ]
  },
  {
   "cell_type": "code",
   "execution_count": 2,
   "metadata": {},
   "outputs": [],
   "source": [
    "import numpy as np"
   ]
  },
  {
   "cell_type": "code",
   "execution_count": 3,
   "metadata": {},
   "outputs": [],
   "source": [
    "# Voit testata funktiotasi seuraavalla lähtödatalla:\n",
    "kulma = [10, 15, 20, 25, 30]\n",
    "kantama = [22.7, 21.9, 26.1, 28.8, 29.8]\n",
    "\n",
    "### Palautettavan tehtävän osa alkaa tästä ###\n",
    "\n",
    "lista=[]\n",
    "def nopeus(kulma, kantama):\n",
    "    # Kirjoita vastauksesi tämän funktiorakenteen sisälle:\n",
    "    a=0\n",
    "    while a!=5:\n",
    "        x=(kantama[a]/100)*9.82\n",
    "        y=np.sin(2*kulma[a]*np.pi/180)\n",
    "        z=np.sqrt(x/y)\n",
    "        lista.append(z)\n",
    "        a=a+1\n",
    "    # Lopuksi tulostetaan määrittämäsi numpy taulukko nopeus:\n",
    "    print(np.round(lista,8))"
   ]
  },
  {
   "cell_type": "code",
   "execution_count": 4,
   "metadata": {},
   "outputs": [
    {
     "name": "stdout",
     "output_type": "stream",
     "text": [
      "[2.55295306 2.07392382 1.99683532 1.92143193 1.83822454]\n"
     ]
    }
   ],
   "source": [
    "### Palautettavan tehtävän osa päättyy tähän.  \n",
    "\n",
    "# Ennen tehtävän palauttamista Moodleen, kokeile sitä seuraavasti:\n",
    "nopeus(kulma, kantama)"
   ]
  },
  {
   "cell_type": "code",
   "execution_count": 21,
   "metadata": {},
   "outputs": [],
   "source": [
    "# harjoitus1\n",
    "\n",
    "\n",
    "def nopeus(kulma, kantama):\n",
    "    import numpy as np\n",
    "    \n",
    "    kulmat = np.array(kulma)\n",
    "    kantamat = np.array(kantama)/100\n",
    "    nopeus = ((kantamat*9.82)/(np.sin(((np.pi)/180)*2*kulmat)))**0.5\n",
    "    \n",
    "    print(nopeus)"
   ]
  },
  {
   "cell_type": "markdown",
   "metadata": {},
   "source": [
    "## 2 Nopanheitto\n",
    "Heitettäessä kolmea noppaa todennäköisyys että kaikkien silmäluvut on erit on n. 56 %.\n",
    "\n",
    "Testaa tätä \"heittämällä\" kolmea noppaa miljoonaa kertaa:\n",
    "\n",
    "Tee NumPy:n randint-funktiolla NumPy-taulukko, jossa on 10 000 000 kpl satunnaislukuja väliltä 1-6. https://docs.scipy.org/doc/numpy-1.15.1/reference/generated/numpy.random.randint.html#numpy.random.randint\n",
    "Tee samanlainen taulukko vielä 2 kertaa\n",
    "Tee sitten NumPy-taulukko jossa on True (tai 1) kun kolmessa \"noppataulukossa\" on kyseisellä paikalla kaikissa eri luku, ja False (tai 0), jos ei ole\n",
    "Laske montako True-alkioita taulukossa on ja jaa se alkioiden määrällä\n",
    "Pyöristä lopuksi vastauksesi numpyn round funktiolla kahden desimaalin tarkkuuteen (pitäisi tulla 0,56).\n",
    "Voit tehdä \"noppataulukoista\" DataFramen tai tutkia pelkästään NymPy-taulukkoja"
   ]
  },
  {
   "cell_type": "code",
   "execution_count": 22,
   "metadata": {},
   "outputs": [
    {
     "name": "stdout",
     "output_type": "stream",
     "text": [
      "0.56\n"
     ]
    }
   ],
   "source": [
    "# harjoitus 2\n",
    "\n",
    "\n",
    "import numpy as np\n",
    "\n",
    "noppa1 = np.random.randint(1,7,10000000)\n",
    "noppa2 = np.random.randint(1,7,10000000)\n",
    "noppa3 = np.random.randint(1,7,10000000)\n",
    "\n",
    "\n",
    "onko_erit = (noppa1 != noppa2) & (noppa2 != noppa3) & (noppa1 != noppa3)\n",
    "tulos = onko_erit.sum()/len(onko_erit)\n",
    "\n",
    "print(np.round(tulos,decimals=2))"
   ]
  },
  {
   "cell_type": "markdown",
   "metadata": {},
   "source": [
    "## 3 DataFrame - Veikkausliiga\n",
    "Alla on sisäkkäisisitä sanakirjoista koostuva tietorakenne, jossa on jalkapallon Veikkausliigajoukkueiden sarjasijoitukset 1990-2019.\n",
    "\n",
    "Tee sanakirjasta DataFrame, jossa vuodet ovat riviotsikoita ja joukkueet sarakeotsikoita.\n",
    "\n",
    "Suodata ja tulosta sitten DataFramesta seuraava näkymä (älä valitse rivejä \"käsin\"):\n",
    "\n",
    "Jos data sisältää puuttuvia arvoja NaN, niin sijoita näiden paikalle lukuarvo 0.\n",
    "HJK:n sijoitus on ollut 3 parhaan joukossa.\n",
    "Valitse rivit vuosilta 1995-2005 ja RoPS:n, HJK:n ja Ilveksen sarakkeet.\n",
    "Kaikki yli 10 olevat sijoitukset korvataan merkkijonolla 'yli 10'.\n",
    "\n",
    "Tulosta viisi ensimmäistä riviä suodattamastasi taulukosta."
   ]
  },
  {
   "cell_type": "code",
   "execution_count": 5,
   "metadata": {},
   "outputs": [
    {
     "data": {
      "text/html": [
       "<div>\n",
       "<style scoped>\n",
       "    .dataframe tbody tr th:only-of-type {\n",
       "        vertical-align: middle;\n",
       "    }\n",
       "\n",
       "    .dataframe tbody tr th {\n",
       "        vertical-align: top;\n",
       "    }\n",
       "\n",
       "    .dataframe thead th {\n",
       "        text-align: right;\n",
       "    }\n",
       "</style>\n",
       "<table border=\"1\" class=\"dataframe\">\n",
       "  <thead>\n",
       "    <tr style=\"text-align: right;\">\n",
       "      <th></th>\n",
       "      <th>RoPS</th>\n",
       "      <th>HJK</th>\n",
       "      <th>Ilves</th>\n",
       "    </tr>\n",
       "  </thead>\n",
       "  <tbody>\n",
       "    <tr>\n",
       "      <th>1995</th>\n",
       "      <td>9</td>\n",
       "      <td>3</td>\n",
       "      <td>7</td>\n",
       "    </tr>\n",
       "    <tr>\n",
       "      <th>1997</th>\n",
       "      <td>6</td>\n",
       "      <td>1</td>\n",
       "      <td>0</td>\n",
       "    </tr>\n",
       "    <tr>\n",
       "      <th>1999</th>\n",
       "      <td>8</td>\n",
       "      <td>2</td>\n",
       "      <td>0</td>\n",
       "    </tr>\n",
       "    <tr>\n",
       "      <th>2001</th>\n",
       "      <td>yli 10</td>\n",
       "      <td>2</td>\n",
       "      <td>0</td>\n",
       "    </tr>\n",
       "    <tr>\n",
       "      <th>2002</th>\n",
       "      <td>0</td>\n",
       "      <td>1</td>\n",
       "      <td>0</td>\n",
       "    </tr>\n",
       "  </tbody>\n",
       "</table>\n",
       "</div>"
      ],
      "text/plain": [
       "        RoPS  HJK  Ilves\n",
       "1995       9    3      7\n",
       "1997       6    1      0\n",
       "1999       8    2      0\n",
       "2001  yli 10    2      0\n",
       "2002       0    1      0"
      ]
     },
     "execution_count": 5,
     "metadata": {},
     "output_type": "execute_result"
    }
   ],
   "source": [
    "veikkausliiga = {1990: {'HJK': 1,'Kuusysi': 2,'MP': 3,'Reipas': 4,'RoPS': 5,'KuPS': 6,'TPS': 7,'Haka': 8,'Ilves': 9,'OTP': 10,'KPV': 11,'Kumu': 12}, 1991: {'Kuusysi': 1,'MP': 2,'Haka': 3,'Jaro': 4,'HJK': 5,'Ilves': 6,'RoPS': 7,'Jazz': 8,'TPS': 9,'KuPS': 10,'OTP': 11,'Reipas': 12}, 1992: {'HJK': 1,'Kuusysi': 2,'Jazz': 3,'MYPA': 4,'Jaro': 5,'Haka': 6,'RoPS': 7,'Ilves': 8,'TPS': 9,'MP': 10,'FC/AC Oulu': 11,'KuPS': 12}, 1993: {'Jazz': 1,'MYPA': 2,'HJK': 3,'Kuusysi': 4,'FinnPa': 5,'TPV': 6,'RoPS': 7,'TPS': 8,'MP': 9,'Haka': 10,'Jaro': 11,'Ilves': 12}, 1994: {'TPV': 1,'MYPA': 2,'HJK': 3,'Jazz': 4,'RoPS': 5,'Haka': 6,'Jaro': 7,'TPS': 8,'Kuusysi': 9,'FinnPa': 10,'MP': 11,'Ilves': 12,'FC/AC Oulu': 13,'KuPS': 14}, 1995: {'Haka': 1,'MYPA': 2,'HJK': 3,'Jazz': 4,'Jaro': 5,'TPS': 6,'Ilves': 7,'FinnPa': 8,'RoPS': 9,'VPS': 10,'MP': 11,'TPV': 12,'Kuusysi': 13,'Ponnistus': 14}, 1996: {'Jazz': 1,'MYPA': 2,'TPS': 3,'FinnPa': 4,'Jaro': 5,'Inter': 6,'VPS': 7,'RoPS': 8,'HJK': 9,'Ilves': 10,'Haka': 11,'MP': 12}, 1997: {'HJK': 1,'VPS': 2,'FinnPa': 3,'TPS': 4,'MYPA': 5,'RoPS': 6,'Jazz': 7,'Jaro': 8,'TP-Seinäjoki': 9,'Inter': 10}, 1998: {'Haka': 1,'VPS': 2,'PK-35': 3,'HJK': 4,'Jazz': 5,'TPS': 6,'MYPA': 7,'RoPS': 8,'FinnPa': 9,'Jaro': 10}, 1999: {'Haka': 1,'HJK': 2,'MYPA': 3,'Jokerit': 4,'Inter': 5,'Jazz': 6,'KooTeePee': 7,'RoPS': 8,'TPS': 9,'Lahti': 10,'VPS': 11,'TPV': 12}, 2000: {'Haka': 1,'Jokerit': 2,'MYPA': 3,'HJK': 4,'Jazz': 5,'TamU': 6,'Inter': 7,'Lahti': 8,'RoPS': 9,'VPS': 10,'TPS': 11,'KooTeePee': 12}, 2001: {'TamU': 1,'HJK': 2,'MYPA': 3,'Haka': 4,'Inter': 5,'VPS': 6,'Atlantis': 7,'KuPS': 8,'Lahti': 9,'Jazz': 10,'Jokerit': 11,'RoPS': 12}, 2002: {'HJK': 1,'MYPA': 2,'Haka': 3,'Allianssi': 4,'TamU': 5,'Inter': 6,'Jaro': 7,'Lahti': 8,'KuPS': 9,'Hämeenlinna': 10,'VPS': 11,'Jazz': 12}, 2003: {'HJK': 1,'Haka': 2,'TamU': 3,'MYPA': 4,'Lahti': 5,'Allianssi': 6,'Inter': 7,'Jaro': 8,'TPS': 9,'Jokerit': 10,'Hämeenlinna': 11,'Jazz': 12,'KooTeePee': 13,'KuPS': 14}, 2004: {'Haka': 1,'Allianssi': 2,'TamU': 3,'Inter': 4,'TPS': 5,'HJK': 6,'Lahti': 7,'MYPA': 8,'KooTeePee': 9,'TP-47': 10,'Jaro': 11,'RoPS': 12,'Jazz': 13,'Hämeenlinna': 14}, 2005: {'MYPA': 1,'HJK': 2,'TamU': 3,'Haka': 4,'Inter': 5,'Lahti': 6,'Allianssi': 7,'KooTeePee': 8,'TPS': 9,'KuPS': 10,'Jaro': 11,'IFK Mariehamn': 12,'RoPS': 13,'TP-47': 14}, 2006: {'TamU': 1,'HJK': 2,'Haka': 3,'Honka': 4,'IFK Mariehamn': 5,'MYPA': 6,'TPS': 7,'Lahti': 8,'VPS': 9,'Inter': 10,'KooTeePee': 11,'Jaro': 12,'KuPS': 13}, 2007: {'TamU': 1,'Haka': 2,'TPS': 3,'Honka': 4,'MYPA': 5,'IFK Mariehamn': 6,'HJK': 7,'Lahti': 8,'Inter': 9,'VPS': 10,'Jaro': 11,'KooTeePee': 12,'Viikingit': 13,'FC/AC Oulu': 14}, 2008: {'Inter': 1,'Honka': 2,'Lahti': 3,'HJK': 4,'MYPA': 5,'TPS': 6,'TamU': 7,'Haka': 8,'Jaro': 9,'RoPS': 10,'VPS': 11,'IFK Mariehamn': 12,'KuPS': 13,'KooTeePee': 14}, 2009: {'HJK': 1,'Honka': 2,'TPS': 3,'IFK Mariehamn': 4,'Inter': 5,'Haka': 6,'TamU': 7,'VPS': 8,'MYPA': 9,'Jaro': 10,'Lahti': 11,'KuPS': 12,'JJK': 13,'RoPS': 14}, 2010: {'HJK': 1,'KuPS': 2,'TPS': 3,'Honka': 4,'Jaro': 5,'Inter': 6,'TamU': 7,'Haka': 8,'MYPA': 9,'VPS': 10,'FC/AC Oulu': 11,'IFK Mariehamn': 12,'JJK': 13,'Lahti': 14}, 2011: {'HJK': 1,'Inter': 2,'JJK': 3,'Honka': 4,'TPS': 5,'KuPS': 6,'IFK Mariehamn': 7,'MYPA': 8,'VPS': 9,'Haka': 10,'Jaro': 11,'RoPS': 12}, 2012: {'HJK': 1,'Inter': 2,'TPS': 3,'IFK Mariehamn': 4,'Lahti': 5,'MYPA': 6,'Honka': 7,'VPS': 8,'JJK': 9,'KuPS': 10,'Jaro': 11,'Haka': 12}, 2013: {'HJK': 1,'Honka': 2,'VPS': 3,'IFK Mariehamn': 4,'Lahti': 5,'MYPA': 6,'KuPS': 7,'TPS': 8,'Inter': 9,'Jaro': 10,'RoPS': 11,'JJK': 12}, 2014: {'HJK': 1,'SJK': 2,'Lahti': 3,'VPS': 4,'IFK Mariehamn': 5,'Jaro': 6,'KuPS': 7,'MYPA': 8,'Inter': 9,'RoPS': 10,'Honka': 11,'TPS': 12}, 2015: {'SJK': 1,'RoPS': 2,'HJK': 3,'Inter': 4,'Lahti': 5,'IFK Mariehamn': 6,'HIFK': 7,'Ilves': 8,'KuPS': 9,'VPS': 10,'KooTeePee': 11,'Jaro': 12}, 2016: {'IFK Mariehamn': 1,'HJK': 2,'SJK': 3,'VPS': 4,'Ilves': 5,'RoPS': 6,'KuPS': 7,'Lahti': 8,'PS Kemi': 9,'HIFK': 10,'Inter': 11,'PK-35': 12}, 2017: {'HJK': 1,'KuPS': 2,'Ilves': 3,'Lahti': 4,'IFK Mariehamn': 5,'SJK': 6,'RoPS': 7,'VPS': 8,'Inter': 9,'PS Kemi': 10,'HIFK': 11,'JJK': 12},2018: {'HJK': 1,'RoPS': 2,'KuPS': 3,'Honka': 4,'Ilves': 5,'VPS': 6,'Inter': 7,'Lahti': 8,'SJK': 9,'IFK Mariehamn': 10,'TPS': 11,'PS Kemi': 12}, 2019: {'KuPS': 1,'Inter': 2,'Honka': 3,'Ilves': 4,'HJK': 5,'IFK Mariehamn': 6,'HIFK': 7,'Lahti': 8,'SJK': 9,'RoPS': 10,'KPV': 11,'VPS': 12}}\n",
    "# Kirjoita vastauksesi tähän, jossa hyödynnät pandas DataFramea.\n",
    "import pandas as pd\n",
    "df=pd.DataFrame(veikkausliiga)\n",
    "df=df.T\n",
    "df=df.fillna(0)\n",
    "df=df[df[\"HJK\"]<=3]\n",
    "df2=df[4:11][[\"RoPS\",\"HJK\",\"Ilves\"]]\n",
    "tulos=df2[[\"RoPS\",\"HJK\",\"Ilves\"]].applymap(lambda x:\"yli 10\" if x>= 10 else x)\n",
    "tulos[\"HJK\"]=tulos[\"HJK\"].astype(int)\n",
    "tulos[\"Ilves\"]=tulos[\"Ilves\"].astype(int)\n",
    "#Älä kirjoita tähän muita print komentoja kuin viimeillä rivillä, koska ne antavat sinulle automaattitarkistuksessa virheellisen vastauksen.\n",
    "\n",
    "# Muokkaa vastauksesi siten, että se tulostetaan alla olevan tulos muuttujan avulla:\n",
    "tulos.head()"
   ]
  },
  {
   "cell_type": "code",
   "execution_count": 20,
   "metadata": {},
   "outputs": [
    {
     "name": "stdout",
     "output_type": "stream",
     "text": [
      "        RoPS  HJK  Ilves\n",
      "1995       9    3      7\n",
      "1997       6    1      0\n",
      "1999       8    2      0\n",
      "2001  yli 10    2      0\n",
      "2002       0    1      0\n"
     ]
    }
   ],
   "source": [
    "# harjoitus 3  \n",
    "\n",
    "\n",
    "import pandas as pd\n",
    "\n",
    "veikkausliiga = {1990: {'HJK': 1,'Kuusysi': 2,'MP': 3,'Reipas': 4,'RoPS': 5,'KuPS': 6,'TPS': 7,'Haka': 8,'Ilves': 9,'OTP': 10,'KPV': 11,'Kumu': 12}, 1991: {'Kuusysi': 1,'MP': 2,'Haka': 3,'Jaro': 4,'HJK': 5,'Ilves': 6,'RoPS': 7,'Jazz': 8,'TPS': 9,'KuPS': 10,'OTP': 11,'Reipas': 12}, 1992: {'HJK': 1,'Kuusysi': 2,'Jazz': 3,'MYPA': 4,'Jaro': 5,'Haka': 6,'RoPS': 7,'Ilves': 8,'TPS': 9,'MP': 10,'FC/AC Oulu': 11,'KuPS': 12}, 1993: {'Jazz': 1,'MYPA': 2,'HJK': 3,'Kuusysi': 4,'FinnPa': 5,'TPV': 6,'RoPS': 7,'TPS': 8,'MP': 9,'Haka': 10,'Jaro': 11,'Ilves': 12}, 1994: {'TPV': 1,'MYPA': 2,'HJK': 3,'Jazz': 4,'RoPS': 5,'Haka': 6,'Jaro': 7,'TPS': 8,'Kuusysi': 9,'FinnPa': 10,'MP': 11,'Ilves': 12,'FC/AC Oulu': 13,'KuPS': 14}, 1995: {'Haka': 1,'MYPA': 2,'HJK': 3,'Jazz': 4,'Jaro': 5,'TPS': 6,'Ilves': 7,'FinnPa': 8,'RoPS': 9,'VPS': 10,'MP': 11,'TPV': 12,'Kuusysi': 13,'Ponnistus': 14}, 1996: {'Jazz': 1,'MYPA': 2,'TPS': 3,'FinnPa': 4,'Jaro': 5,'Inter': 6,'VPS': 7,'RoPS': 8,'HJK': 9,'Ilves': 10,'Haka': 11,'MP': 12}, 1997: {'HJK': 1,'VPS': 2,'FinnPa': 3,'TPS': 4,'MYPA': 5,'RoPS': 6,'Jazz': 7,'Jaro': 8,'TP-Seinäjoki': 9,'Inter': 10}, 1998: {'Haka': 1,'VPS': 2,'PK-35': 3,'HJK': 4,'Jazz': 5,'TPS': 6,'MYPA': 7,'RoPS': 8,'FinnPa': 9,'Jaro': 10}, 1999: {'Haka': 1,'HJK': 2,'MYPA': 3,'Jokerit': 4,'Inter': 5,'Jazz': 6,'KooTeePee': 7,'RoPS': 8,'TPS': 9,'Lahti': 10,'VPS': 11,'TPV': 12}, 2000: {'Haka': 1,'Jokerit': 2,'MYPA': 3,'HJK': 4,'Jazz': 5,'TamU': 6,'Inter': 7,'Lahti': 8,'RoPS': 9,'VPS': 10,'TPS': 11,'KooTeePee': 12}, 2001: {'TamU': 1,'HJK': 2,'MYPA': 3,'Haka': 4,'Inter': 5,'VPS': 6,'Atlantis': 7,'KuPS': 8,'Lahti': 9,'Jazz': 10,'Jokerit': 11,'RoPS': 12}, 2002: {'HJK': 1,'MYPA': 2,'Haka': 3,'Allianssi': 4,'TamU': 5,'Inter': 6,'Jaro': 7,'Lahti': 8,'KuPS': 9,'Hämeenlinna': 10,'VPS': 11,'Jazz': 12}, 2003: {'HJK': 1,'Haka': 2,'TamU': 3,'MYPA': 4,'Lahti': 5,'Allianssi': 6,'Inter': 7,'Jaro': 8,'TPS': 9,'Jokerit': 10,'Hämeenlinna': 11,'Jazz': 12,'KooTeePee': 13,'KuPS': 14}, 2004: {'Haka': 1,'Allianssi': 2,'TamU': 3,'Inter': 4,'TPS': 5,'HJK': 6,'Lahti': 7,'MYPA': 8,'KooTeePee': 9,'TP-47': 10,'Jaro': 11,'RoPS': 12,'Jazz': 13,'Hämeenlinna': 14}, 2005: {'MYPA': 1,'HJK': 2,'TamU': 3,'Haka': 4,'Inter': 5,'Lahti': 6,'Allianssi': 7,'KooTeePee': 8,'TPS': 9,'KuPS': 10,'Jaro': 11,'IFK Mariehamn': 12,'RoPS': 13,'TP-47': 14}, 2006: {'TamU': 1,'HJK': 2,'Haka': 3,'Honka': 4,'IFK Mariehamn': 5,'MYPA': 6,'TPS': 7,'Lahti': 8,'VPS': 9,'Inter': 10,'KooTeePee': 11,'Jaro': 12,'KuPS': 13}, 2007: {'TamU': 1,'Haka': 2,'TPS': 3,'Honka': 4,'MYPA': 5,'IFK Mariehamn': 6,'HJK': 7,'Lahti': 8,'Inter': 9,'VPS': 10,'Jaro': 11,'KooTeePee': 12,'Viikingit': 13,'FC/AC Oulu': 14}, 2008: {'Inter': 1,'Honka': 2,'Lahti': 3,'HJK': 4,'MYPA': 5,'TPS': 6,'TamU': 7,'Haka': 8,'Jaro': 9,'RoPS': 10,'VPS': 11,'IFK Mariehamn': 12,'KuPS': 13,'KooTeePee': 14}, 2009: {'HJK': 1,'Honka': 2,'TPS': 3,'IFK Mariehamn': 4,'Inter': 5,'Haka': 6,'TamU': 7,'VPS': 8,'MYPA': 9,'Jaro': 10,'Lahti': 11,'KuPS': 12,'JJK': 13,'RoPS': 14}, 2010: {'HJK': 1,'KuPS': 2,'TPS': 3,'Honka': 4,'Jaro': 5,'Inter': 6,'TamU': 7,'Haka': 8,'MYPA': 9,'VPS': 10,'FC/AC Oulu': 11,'IFK Mariehamn': 12,'JJK': 13,'Lahti': 14}, 2011: {'HJK': 1,'Inter': 2,'JJK': 3,'Honka': 4,'TPS': 5,'KuPS': 6,'IFK Mariehamn': 7,'MYPA': 8,'VPS': 9,'Haka': 10,'Jaro': 11,'RoPS': 12}, 2012: {'HJK': 1,'Inter': 2,'TPS': 3,'IFK Mariehamn': 4,'Lahti': 5,'MYPA': 6,'Honka': 7,'VPS': 8,'JJK': 9,'KuPS': 10,'Jaro': 11,'Haka': 12}, 2013: {'HJK': 1,'Honka': 2,'VPS': 3,'IFK Mariehamn': 4,'Lahti': 5,'MYPA': 6,'KuPS': 7,'TPS': 8,'Inter': 9,'Jaro': 10,'RoPS': 11,'JJK': 12}, 2014: {'HJK': 1,'SJK': 2,'Lahti': 3,'VPS': 4,'IFK Mariehamn': 5,'Jaro': 6,'KuPS': 7,'MYPA': 8,'Inter': 9,'RoPS': 10,'Honka': 11,'TPS': 12}, 2015: {'SJK': 1,'RoPS': 2,'HJK': 3,'Inter': 4,'Lahti': 5,'IFK Mariehamn': 6,'HIFK': 7,'Ilves': 8,'KuPS': 9,'VPS': 10,'KooTeePee': 11,'Jaro': 12}, 2016: {'IFK Mariehamn': 1,'HJK': 2,'SJK': 3,'VPS': 4,'Ilves': 5,'RoPS': 6,'KuPS': 7,'Lahti': 8,'PS Kemi': 9,'HIFK': 10,'Inter': 11,'PK-35': 12}, 2017: {'HJK': 1,'KuPS': 2,'Ilves': 3,'Lahti': 4,'IFK Mariehamn': 5,'SJK': 6,'RoPS': 7,'VPS': 8,'Inter': 9,'PS Kemi': 10,'HIFK': 11,'JJK': 12},2018: {'HJK': 1,'RoPS': 2,'KuPS': 3,'Honka': 4,'Ilves': 5,'VPS': 6,'Inter': 7,'Lahti': 8,'SJK': 9,'IFK Mariehamn': 10,'TPS': 11,'PS Kemi': 12}, 2019: {'KuPS': 1,'Inter': 2,'Honka': 3,'Ilves': 4,'HJK': 5,'IFK Mariehamn': 6,'HIFK': 7,'Lahti': 8,'SJK': 9,'RoPS': 10,'KPV': 11,'VPS': 12}}\n",
    "df = pd.DataFrame(veikkausliiga).T\n",
    "df[df.isna()]=0\n",
    "\n",
    "# .astype(int) muuttaa kokonaisluvuiksi.\n",
    "tulos = df.loc[(df['HJK']<4),:].astype(int)\n",
    "\n",
    "tulos = tulos.loc[1995:2005,['RoPS','HJK','Ilves']]\n",
    "tulos[tulos > 10] = 'yli 10'\n",
    "tulos = tulos.head()\n",
    "\n",
    "print(tulos)"
   ]
  },
  {
   "cell_type": "markdown",
   "metadata": {},
   "source": [
    "## 4 Säädatan käsittelyä DataFramella (1)\n",
    "Tee funktio saa(url), joka ottaa argumentikseen datan url:n ja tulostaa vastauksen alla kuvatulla tavalla:\n",
    "\n",
    "lataa datan url:sta Pandasin DataFrameen,\n",
    "\n",
    "valitsee kaikki syyskuun 1.-15. päivät, jolloin 'mittari_1 (degC)':n lämpötila on ollut matalampi kuin 'mittari_1 (degC)':n lämpötila 1.9.2000 lajiteltuna 'mittari_1 (degC)':n lämpötilan mukaan nousevasti,\n",
    "\n",
    "tekee uuden sarakkeen \"erotus\", joka kertoo 'mittari_1 (degC)':n ja 'mittari_2 (degC)':n lämpötilojen erotuksen itseisarvon,\n",
    "\n",
    "funktio tulostaa data frame talukosta \"tulos\" 5 ensimmäistä riviä, jossa ovat sarakkeet 'mittari_1 (degC)', 'mittari_2 (degC)' ja 'erotus'.\n",
    "\n",
    "Tässä tehtävässä käytetään säähavaintodataa eräältä mittausasemalta vuosilta 1959-2020 seuraavasta url:sta:\n",
    "url=https://student.labranet.jamk.fi/~huoptu/datananal_s20/kerta1/harjoitukset/data_h1_t3.csv"
   ]
  },
  {
   "cell_type": "code",
   "execution_count": 13,
   "metadata": {},
   "outputs": [
    {
     "name": "stdout",
     "output_type": "stream",
     "text": [
      "       mittari_1 (degC)  mittari_2 (degC)    erotus\n",
      "2811           0.004600          6.594916  6.590316\n",
      "21437          0.005601          3.937057  3.931456\n",
      "14130          0.029420          0.965881  0.936460\n",
      "10480          0.031741          0.663349  0.631607\n",
      "245            0.037996          1.740839  1.702842\n"
     ]
    }
   ],
   "source": [
    "### Palautettavan tehtävän osa alkaa tästä ###\n",
    "def saa(url):\n",
    "    \n",
    "    # Kirjoita vastauksesi tähän:\n",
    "    import pandas as pd\n",
    "    url=\"https://student.labranet.jamk.fi/~huoptu/datananal_s20/kerta1/harjoitukset/data_h1_t3.csv\"\n",
    "    df5=pd.read_csv(url)\n",
    "    df5=df5[(df5[\"Kk\"]==9) & (df5[\"Pv\"]<=16)]\n",
    "    df5=df5.sort_values(by=['mittari_1 (degC)'])\n",
    "    df5[\"erotus\"]=df5[\"mittari_1 (degC)\"]-df5[\"mittari_2 (degC)\"]\n",
    "    df5[\"erotus\"]=df5[\"erotus\"].abs()\n",
    "    \n",
    "    # Vastauksesi tulostetaan. Älä käytä muita print toimintoja kuin tässä alla.\n",
    "    print(df5[[\"mittari_1 (degC)\",\"mittari_2 (degC)\",\"erotus\"]].head())\n",
    "### Palautettavan tehtävän osa päättyy tähän.   \n",
    "\n",
    "    \n",
    "# Kokeile tekemääsi funktiota:\n",
    "saa(\"https://student.labranet.jamk.fi/~huoptu/datananal_s20/kerta1/harjoitukset/data_h1_t3.csv\")"
   ]
  },
  {
   "cell_type": "code",
   "execution_count": 19,
   "metadata": {},
   "outputs": [],
   "source": [
    "# harjoitus 4   \n",
    "\n",
    "\n",
    "\n",
    "def saa(url):\n",
    "    \n",
    "    # Kirjoita vastauksesi tähän:\n",
    "    import pandas as pd\n",
    "    df = pd.read_csv(url, delimiter = ',')\n",
    "    sarakkeet = ['mittari_1 (degC)', 'mittari_2 (degC)']\n",
    "    raja = df[(df['Vuosi'] == 2000) & (df['Kk'] == 9) & (df['Pv'] == 1)]['mittari_1 (degC)']\n",
    "    # raja ei ole nyt luku vaan Series, arvon siitä saa esim float(raja) tai raja.values[0]\n",
    "    raja = raja.values[0]\n",
    "    tulos = df[sarakkeet][(df['Kk']==9) & (df['Pv']<16) & (df['mittari_1 (degC)']<raja)].sort_values('mittari_1 (degC)',ascending = True)\n",
    "    tulos['erotus'] = (tulos['mittari_1 (degC)'] - tulos['mittari_2 (degC)']).abs()\n",
    "    \n",
    "    # Vastauksesi tulostetaan. Älä käytä muita print toimintoja kuin tässä alla.\n",
    "    print(tulos.head(5))"
   ]
  },
  {
   "cell_type": "markdown",
   "metadata": {},
   "source": [
    "## 5 Säädatan käsittelyä DataFramella (2)\n",
    "Tee python funktio saa(url), joka käyttää argumenttia url ja tekee seuraavaa:\n",
    "\n",
    "lataa data DataFrameen,\n",
    "\n",
    "tee uusi sarake \"erotus\", joka kertoo 'mittari_1 (degC)':n ja 'mittari_2 (degC)':n lämpötilojen erotuksen itseisarvon,\n",
    "jos 'mittari_1 (degC)':n ja 'mittari_1 (degC)':n lämpötilojen erotus on pienempi kuin 1.5 astetta, niin kirjoita ko. riville uuteen sarakkeeseen 'virheraja' merkkijono 'in'.\n",
    "\n",
    "valitse DataFrameen seuraavat kuukaudet: [1, 4, 7, 10],\n",
    "\n",
    "valiset DataFramesta vain ne rivit joiden 'virheraja' sarakkeessa on merkkijono 'in',\n",
    "\n",
    "valitse uuteen DataFrameen Pandasin .copy() toiminnolla sarakkeet 'Kk', 'erotus' ja 'virheraja',\n",
    "\n",
    "kirjoita uuden DataFramen sarakkeiden nimiksi 'Month' sarakkeen 'Kk' tilalle, 'Difference' sarakkeen 'erotus' tilalle ja 'Error' sarakkeen 'virheraja' tilalle.\n",
    "\n",
    "tulosta em. DataFramesta viisi viimeistä riviä.\n",
    "\n",
    "Tässä tehtävässä url=https://student.labranet.jamk.fi/~huoptu/datananal_s20/kerta1/harjoitukset/data_h1_t3.csv\n",
    "\n"
   ]
  },
  {
   "cell_type": "code",
   "execution_count": 14,
   "metadata": {},
   "outputs": [
    {
     "data": {
      "text/html": [
       "<div>\n",
       "<style scoped>\n",
       "    .dataframe tbody tr th:only-of-type {\n",
       "        vertical-align: middle;\n",
       "    }\n",
       "\n",
       "    .dataframe tbody tr th {\n",
       "        vertical-align: top;\n",
       "    }\n",
       "\n",
       "    .dataframe thead th {\n",
       "        text-align: right;\n",
       "    }\n",
       "</style>\n",
       "<table border=\"1\" class=\"dataframe\">\n",
       "  <thead>\n",
       "    <tr style=\"text-align: right;\">\n",
       "      <th></th>\n",
       "      <th>Month</th>\n",
       "      <th>Difference</th>\n",
       "      <th>Error</th>\n",
       "    </tr>\n",
       "  </thead>\n",
       "  <tbody>\n",
       "    <tr>\n",
       "      <th>22206</th>\n",
       "      <td>10</td>\n",
       "      <td>0.609291</td>\n",
       "      <td>in</td>\n",
       "    </tr>\n",
       "    <tr>\n",
       "      <th>22212</th>\n",
       "      <td>10</td>\n",
       "      <td>0.031468</td>\n",
       "      <td>in</td>\n",
       "    </tr>\n",
       "    <tr>\n",
       "      <th>22214</th>\n",
       "      <td>10</td>\n",
       "      <td>1.353995</td>\n",
       "      <td>in</td>\n",
       "    </tr>\n",
       "    <tr>\n",
       "      <th>22215</th>\n",
       "      <td>10</td>\n",
       "      <td>1.184691</td>\n",
       "      <td>in</td>\n",
       "    </tr>\n",
       "    <tr>\n",
       "      <th>22283</th>\n",
       "      <td>1</td>\n",
       "      <td>0.886008</td>\n",
       "      <td>in</td>\n",
       "    </tr>\n",
       "  </tbody>\n",
       "</table>\n",
       "</div>"
      ],
      "text/plain": [
       "       Month  Difference Error\n",
       "22206     10    0.609291    in\n",
       "22212     10    0.031468    in\n",
       "22214     10    1.353995    in\n",
       "22215     10    1.184691    in\n",
       "22283      1    0.886008    in"
      ]
     },
     "execution_count": 14,
     "metadata": {},
     "output_type": "execute_result"
    }
   ],
   "source": [
    "import pandas as pd\n",
    "df=pd.read_csv(\"https://student.labranet.jamk.fi/~huoptu/datananal_s20/kerta1/harjoitukset/data_h1_t3.csv\")\n",
    "df[\"erotus\"]=df[\"mittari_1 (degC)\"]-df[\"mittari_2 (degC)\"]\n",
    "df[\"erotus\"]=df[\"erotus\"].abs()\n",
    "df=df[df[\"erotus\"]<1.5]\n",
    "df[\"Error\"]=\"in\"\n",
    "df=df[(df[\"Kk\"]==1)| (df[\"Kk\"]==4) | (df[\"Kk\"]==7) | (df[\"Kk\"]==10)]\n",
    "dfcopy=df.copy()\n",
    "dfcopy=dfcopy[[\"Kk\",\"erotus\",\"Error\"]]\n",
    "dfcopy=dfcopy.rename(columns={\"Kk\":\"Month\", \"erotus\":\"Difference\"})\n",
    "dfcopy.tail()"
   ]
  },
  {
   "cell_type": "code",
   "execution_count": 15,
   "metadata": {},
   "outputs": [],
   "source": [
    "# harjoitus 5\n",
    "\n",
    "\n",
    "def saa(url):\n",
    "    \n",
    "    # Kirjoita vastauksesi tähän:\n",
    "    import pandas as pd\n",
    "\n",
    "    df = pd.read_csv(url, delimiter = ',')\n",
    "\n",
    "    sarakkeet = ['mittari_1 (degC)', 'mittari_2 (degC)']\n",
    "    df['erotus'] = (df['mittari_1 (degC)'] - df['mittari_2 (degC)']).abs()\n",
    "    kuukaudet = [1, 4, 7, 10]\n",
    "    df = df.loc[df['Kk'].isin(kuukaudet),:]\n",
    "    df.loc[df['erotus']<1.5,'virheraja'] = 'in'\n",
    "    df = df.loc[df['virheraja']=='in',:]\n",
    "    tulos = df[['Kk', 'erotus', 'virheraja']].copy()\n",
    "    tulos.columns = ['Month', 'Difference', 'Error']\n",
    "    \n",
    "    # Vastauksesi tulostetaan. Älä käytä muita print toimintoja kuin tässä alla.\n",
    "    print(tulos.tail(5))\n"
   ]
  },
  {
   "cell_type": "code",
   "execution_count": null,
   "metadata": {},
   "outputs": [],
   "source": []
  }
 ],
 "metadata": {
  "kernelspec": {
   "display_name": "Python 3",
   "language": "python",
   "name": "python3"
  },
  "language_info": {
   "codemirror_mode": {
    "name": "ipython",
    "version": 3
   },
   "file_extension": ".py",
   "mimetype": "text/x-python",
   "name": "python",
   "nbconvert_exporter": "python",
   "pygments_lexer": "ipython3",
   "version": "3.7.6"
  }
 },
 "nbformat": 4,
 "nbformat_minor": 4
}
